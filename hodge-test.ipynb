{
 "cells": [
  {
   "cell_type": "code",
   "execution_count": 1,
   "metadata": {},
   "outputs": [],
   "source": [
    "import numpy as np\n",
    "import pyvista as pv\n",
    "import potpourri3d as pp3d"
   ]
  },
  {
   "cell_type": "code",
   "execution_count": 2,
   "metadata": {},
   "outputs": [
    {
     "name": "stdout",
     "output_type": "stream",
     "text": [
      "One form: -216.97035873903005\n",
      "Component: exact\n",
      "- divergence: 328556.7366106078\n",
      "- curl: -3.650558007442245e-11\n",
      "Component: coexact\n",
      "- divergence: -5.367704209685636e-10\n",
      "- curl: -429779.6441535887\n",
      "Component: harmonic\n",
      "- divergence: 4.169577653841766\n",
      "- curl: -1.0928795804731098e-07\n",
      "\n",
      "Decomposition MAE: 0.26626366691091274\n",
      "Component: wss\n",
      "- divergence: 328560.90618826123\n",
      "- curl: -429779.6441536976\n",
      "Component: exact\n",
      "- divergence: 328556.73661060777\n",
      "- curl: -1.4192444700842248e-10\n",
      "Component: coexact\n",
      "- divergence: 93363.80176925681\n",
      "- curl: -346063.2204029245\n",
      "Component: harmonic\n",
      "- divergence: 4.169578726216284\n",
      "- curl: -1.4345396907675802e-07\n"
     ]
    }
   ],
   "source": [
    "mesh = pv.read(\"/Users/patrykrygiel/Downloads/hdd-cell-t008.vtp\")\n",
    "field = mesh[\"wss\"]\n",
    "\n",
    "dec = pp3d.DifferentialExteriorCalculus(mesh.points, mesh.regular_faces)\n",
    "one_form = dec.to_Edge1Form(field)\n",
    "exact, coexact, harmonic = dec.hodge_decomposition(one_form)\n",
    "\n",
    "print(f\"One form: {one_form.sum()}\")\n",
    "for name, one_form in {\"exact\": exact, \"coexact\": coexact, \"harmonic\": harmonic}.items():\n",
    "    print(f\"Component: {name}\")\n",
    "    print(f\"- divergence: {dec.divergence(one_form).sum()}\")\n",
    "    print(f\"- curl: {dec.curl(one_form).sum()}\")\n",
    "\n",
    "mesh[\"exact\"] = dec.to_Face2Form(exact)\n",
    "mesh[\"coexact\"] = dec.to_Face2Form(coexact)\n",
    "mesh[\"harmonic\"] = dec.to_Face2Form(harmonic)\n",
    "mesh[\"wss-rec\"] = mesh[\"exact\"] + mesh[\"coexact\"] + mesh[\"harmonic\"]\n",
    "mesh[\"wss-mae\"] = np.abs(mesh[\"wss\"] - mesh[\"wss-rec\"])\n",
    "\n",
    "mesh.save(\"hhd-py.vtp\")\n",
    "\n",
    "print(f\"\\nDecomposition MAE: {mesh['wss-mae'].mean()}\")\n",
    "\n",
    "for name in [\"wss\", \"exact\", \"coexact\", \"harmonic\"]:\n",
    "    one_form = dec.to_Edge1Form(mesh[name])\n",
    "    print(f\"Component: {name}\")\n",
    "    print(f\"- divergence: {dec.divergence(one_form).sum()}\")\n",
    "    print(f\"- curl: {dec.curl(one_form).sum()}\")"
   ]
  },
  {
   "cell_type": "code",
   "execution_count": null,
   "metadata": {},
   "outputs": [
    {
     "data": {
      "application/vnd.jupyter.widget-view+json": {
       "model_id": "02f1fd758abe42649fb6908321287747",
       "version_major": 2,
       "version_minor": 0
      },
      "text/plain": [
       "Widget(value='<iframe src=\"http://localhost:59066/index.html?ui=P_0x3395b2e10_2&reconnect=auto\" class=\"pyvista…"
      ]
     },
     "metadata": {},
     "output_type": "display_data"
    }
   ],
   "source": [
    "pl = pv.Plotter(shape=(2, 3), window_size=(1200, 800))\n",
    "\n",
    "# Reconstruction\n",
    "pl.subplot(0, 0)\n",
    "pl.add_text(\"Original WSS\")\n",
    "pl.add_mesh(mesh.copy(), scalars=\"wss\", clim=[0, 30])\n",
    "\n",
    "pl.subplot(0, 1)\n",
    "pl.add_text(\"Reconstructed WSS\")\n",
    "pl.add_mesh(mesh.copy(), scalars=\"wss-rec\", clim=[0, 30])\n",
    "\n",
    "pl.subplot(0, 2)\n",
    "pl.add_text(\"Reconstruction MAE\")\n",
    "pl.add_mesh(mesh.copy(), scalars=\"wss-mae\", clim=[0, 5])\n",
    "\n",
    "# Components\n",
    "for i, name in enumerate([\"exact\", \"coexact\", \"harmonic\"]):\n",
    "    pl.subplot(1, i)\n",
    "    pl.add_text(name)\n",
    "    pl.add_mesh(mesh.copy(), color=\"white\", opacity=0.3)\n",
    "    pl.add_arrows(\n",
    "        mesh.cell_centers().points[::2], \n",
    "        (mesh[name] / np.linalg.norm(mesh[name], axis=1, keepdims=True))[::2], \n",
    "        mag=0.01,\n",
    "        show_scalar_bar=False\n",
    "    )\n",
    "\n",
    "pl.link_views()\n",
    "pl.show()"
   ]
  }
 ],
 "metadata": {
  "kernelspec": {
   "display_name": "sire",
   "language": "python",
   "name": "python3"
  },
  "language_info": {
   "codemirror_mode": {
    "name": "ipython",
    "version": 3
   },
   "file_extension": ".py",
   "mimetype": "text/x-python",
   "name": "python",
   "nbconvert_exporter": "python",
   "pygments_lexer": "ipython3",
   "version": "3.11.7"
  }
 },
 "nbformat": 4,
 "nbformat_minor": 2
}
