{
 "cells": [
  {
   "cell_type": "code",
   "execution_count": 1,
   "metadata": {},
   "outputs": [],
   "source": [
    "import numpy as np\n",
    "import pyvista as pv\n",
    "import potpourri3d as pp3d"
   ]
  },
  {
   "cell_type": "code",
   "execution_count": 7,
   "metadata": {},
   "outputs": [
    {
     "name": "stdout",
     "output_type": "stream",
     "text": [
      "-0.0011830106906200787\n"
     ]
    }
   ],
   "source": [
    "mesh = pv.read(\"/Users/patrykrygiel/Downloads/hdd-cell-t008.vtp\")\n",
    "field = mesh[\"wss\"]\n",
    "\n",
    "dec = pp3d.DifferentialExteriorCalculus(mesh.points, mesh.regular_faces)\n",
    "exact, coexact, harmonic = dec.decompose_field(field)\n",
    "\n",
    "mesh[\"exact\"] = exact\n",
    "mesh[\"coexact\"] = coexact\n",
    "mesh[\"harmonic\"] = harmonic\n",
    "mesh[\"wss-rec\"] = exact + coexact + harmonic\n",
    "mesh[\"wss-mae\"] = np.abs(mesh[\"wss\"] - mesh[\"wss-rec\"])\n",
    "\n",
    "mesh.save(\"hhd-py.vtp\")\n",
    "\n",
    "print((field - (exact + coexact + harmonic)).mean())"
   ]
  },
  {
   "cell_type": "code",
   "execution_count": 27,
   "metadata": {},
   "outputs": [
    {
     "data": {
      "application/vnd.jupyter.widget-view+json": {
       "model_id": "e4cac056e80f458ebbe04099feb0881a",
       "version_major": 2,
       "version_minor": 0
      },
      "text/plain": [
       "Widget(value='<iframe src=\"http://localhost:57858/index.html?ui=P_0x39a0b2e50_18&reconnect=auto\" class=\"pyvist…"
      ]
     },
     "metadata": {},
     "output_type": "display_data"
    }
   ],
   "source": [
    "pl = pv.Plotter(shape=(2, 3), window_size=(1200, 800))\n",
    "\n",
    "# Reconstruction\n",
    "pl.subplot(0, 0)\n",
    "pl.add_text(\"Original WSS\")\n",
    "pl.add_mesh(mesh.copy(), scalars=\"wss\", clim=[0, 30])\n",
    "\n",
    "pl.subplot(0, 1)\n",
    "pl.add_text(\"Reconstructed WSS\")\n",
    "pl.add_mesh(mesh.copy(), scalars=\"wss-rec\", clim=[0, 30])\n",
    "\n",
    "pl.subplot(0, 2)\n",
    "pl.add_text(\"Reconstruction MAE\")\n",
    "pl.add_mesh(mesh.copy(), scalars=\"wss-mae\", clim=[0, 5])\n",
    "\n",
    "# Components\n",
    "for i, name in enumerate([\"exact\", \"coexact\", \"harmonic\"]):\n",
    "    pl.subplot(1, i)\n",
    "    pl.add_text(name)\n",
    "    pl.add_mesh(mesh.copy(), color=\"white\", opacity=0.3)\n",
    "    pl.add_arrows(\n",
    "        mesh.cell_centers().points, \n",
    "        mesh[name] / np.linalg.norm(mesh[name], axis=1, keepdims=True), \n",
    "        mag=0.02,\n",
    "        show_scalar_bar=False\n",
    "    )\n",
    "\n",
    "pl.link_views()\n",
    "pl.show()"
   ]
  }
 ],
 "metadata": {
  "kernelspec": {
   "display_name": "sire",
   "language": "python",
   "name": "python3"
  },
  "language_info": {
   "codemirror_mode": {
    "name": "ipython",
    "version": 3
   },
   "file_extension": ".py",
   "mimetype": "text/x-python",
   "name": "python",
   "nbconvert_exporter": "python",
   "pygments_lexer": "ipython3",
   "version": "3.11.7"
  }
 },
 "nbformat": 4,
 "nbformat_minor": 2
}
